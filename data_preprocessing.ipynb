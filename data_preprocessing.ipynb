{
 "cells": [
  {
   "cell_type": "markdown",
   "metadata": {},
   "source": [
    "## Movie Recommender System Group Project"
   ]
  },
  {
   "cell_type": "code",
   "execution_count": 1,
   "metadata": {},
   "outputs": [],
   "source": [
    "import pandas as pd"
   ]
  },
  {
   "cell_type": "markdown",
   "metadata": {},
   "source": [
    "Load Data"
   ]
  },
  {
   "cell_type": "code",
   "execution_count": 3,
   "metadata": {},
   "outputs": [
    {
     "name": "stderr",
     "output_type": "stream",
     "text": [
      "C:\\Users\\dmmkm\\AppData\\Local\\Temp\\ipykernel_2436\\2501307661.py:1: DtypeWarning: Columns (10) have mixed types. Specify dtype option on import or set low_memory=False.\n",
      "  df_movies=pd.read_csv('./Data/movies_metadata.csv')\n"
     ]
    }
   ],
   "source": [
    "df_movies=pd.read_csv('./Data/movies_metadata.csv')\n",
    "df_keywords=pd.read_csv('./Data/keywords.csv')\n",
    "df_links_small=pd.read_csv('./Data/links_small.csv')\n",
    "df_links=pd.read_csv('./Data/links.csv')\n",
    "df_ratings_small=pd.read_csv('./Data/ratings_small.csv')\n"
   ]
  },
  {
   "cell_type": "markdown",
   "metadata": {},
   "source": [
    "Viewing Datasets"
   ]
  },
  {
   "cell_type": "code",
   "execution_count": null,
   "metadata": {},
   "outputs": [],
   "source": []
  }
 ],
 "metadata": {
  "kernelspec": {
   "display_name": "Python 3.8.8 ('general')",
   "language": "python",
   "name": "python3"
  },
  "language_info": {
   "codemirror_mode": {
    "name": "ipython",
    "version": 3
   },
   "file_extension": ".py",
   "mimetype": "text/x-python",
   "name": "python",
   "nbconvert_exporter": "python",
   "pygments_lexer": "ipython3",
   "version": "3.8.8"
  },
  "orig_nbformat": 4,
  "vscode": {
   "interpreter": {
    "hash": "b6b2e0ede945bb6c672228b50a9cd49f844f66133fc5afa0118fbb7f4aedd948"
   }
  }
 },
 "nbformat": 4,
 "nbformat_minor": 2
}
